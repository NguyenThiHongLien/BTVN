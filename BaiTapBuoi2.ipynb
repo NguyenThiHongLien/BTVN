{
 "cells": [
  {
   "cell_type": "markdown",
   "metadata": {},
   "source": [
    "### Viết chương trình Python kiểm tra số lớn nhất trong 3 số\n",
    "\n",
    "- Khai báo 3 biến `a`, `b`, `c` nhập giá trị số bất kỳ (int)\n",
    "- Kiểm tra và in ra số lớn nhất trong 3 số đó"
   ]
  },
  {
   "cell_type": "code",
   "execution_count": 1,
   "metadata": {},
   "outputs": [
    {
     "name": "stdout",
     "output_type": "stream",
     "text": [
      "Nhập  số đầu tiên:\n",
      "Nhập  số thứ 2:\n",
      "Nhập  số thứ 3:\n",
      "số lớn nhất là:45\n"
     ]
    }
   ],
   "source": [
    "print (\"Nhập  số đầu tiên:\")\n",
    "a = int(input())\n",
    "print (\"Nhập  số thứ 2:\")\n",
    "b = int (input())\n",
    "print (\"Nhập  số thứ 3:\")\n",
    "c =int (input())\n",
    "var_max = max(a,b,c)\n",
    "print (\"số lớn nhất là:\" + str(var_max))"
   ]
  },
  {
   "cell_type": "code",
   "execution_count": 2,
   "metadata": {},
   "outputs": [
    {
     "name": "stdout",
     "output_type": "stream",
     "text": [
      "45\n",
      "Max is:  45\n"
     ]
    }
   ],
   "source": [
    "a, b, c = 12, 23, 45\n",
    "print(max(a,b,c))\n",
    "if a >= b:\n",
    "    if a >= c:\n",
    "        print(\"Max is: \", a)\n",
    "    else:\n",
    "        print(\"Max is: \", c)\n",
    "else:\n",
    "    if b >= c:\n",
    "        print(\"Max is: \", b)\n",
    "    else:\n",
    "        print(\"Max is: \", c)"
   ]
  },
  {
   "cell_type": "markdown",
   "metadata": {},
   "source": [
    "### Viết chương trình kiểm tra một năm có phải năm nhuận hay không\n",
    "\n",
    "- Nhập một năm `year` - int\n",
    "- Kiểm tra và in ra kết quả `year` có phải năm nhuận hay không\n",
    "\n",
    "💡 Năm nhuận là năm:\n",
    "\n",
    "- Chia hết cho 400\n",
    "- Chia hết cho 4 **nhưng** không chia hết cho 100"
   ]
  },
  {
   "cell_type": "code",
   "execution_count": 4,
   "metadata": {},
   "outputs": [
    {
     "name": "stdout",
     "output_type": "stream",
     "text": [
      "Nhập số năm:\n",
      "đây không phải năm nhuận\n"
     ]
    }
   ],
   "source": [
    "print (\"Nhập số năm:\")\n",
    "year = int(input())\n",
    "year1 = year%400\n",
    "year2 = year%4\n",
    "year3 = year%100\n",
    "if (year1 ==0):\n",
    " print (\" đây là năm nhuận\")\n",
    "elif (year2 ==0) and (year3 != 0):\n",
    "  print (\"đây là năm nhuận\")  \n",
    "else: print (\"đây không phải năm nhuận\")"
   ]
  },
  {
   "cell_type": "code",
   "execution_count": 6,
   "metadata": {},
   "outputs": [
    {
     "name": "stdout",
     "output_type": "stream",
     "text": [
      "Nhập số năm:\n",
      "đây không phải năm nhuận\n"
     ]
    }
   ],
   "source": [
    "print (\"Nhập số năm:\")\n",
    "year = int(input())\n",
    "year1 = year%400\n",
    "year2 = year%4\n",
    "year3 = year%100\n",
    "if (year1 ==0) or ((year2 ==0) and (year3 != 0)) :\n",
    " print (\" đây là năm nhuận\")\n",
    "else: print (\"đây không phải năm nhuận\")"
   ]
  },
  {
   "cell_type": "markdown",
   "metadata": {},
   "source": [
    "### Viết chương trình tính chỉ số BMI (Body Mass Index - Chỉ số cơ thể)\n",
    "\n",
    "- Nhập chiều cao `h` (đơn vị m) và cân nặng `w` (đơn vị kg)\n",
    "- Tính chỉ số BMI: `w / (h * h)`\n",
    "- In chỉ số và thông báo kết quả theo quy ước:\n",
    "    -  BMI < 17: Gầy độ II\n",
    "    - 17 <= BMI < 18.5: Gầy độ I\n",
    "    - 18.5 <= BMI < 25: Bình thường\n",
    "    - 25 <= BMI < 30: Thừa cân\n",
    "    - 30 <= BMI < 35: Béo phì độ I\n",
    "    - 35 <= BMI: Béo phì độ II"
   ]
  },
  {
   "cell_type": "code",
   "execution_count": 8,
   "metadata": {},
   "outputs": [
    {
     "name": "stdout",
     "output_type": "stream",
     "text": [
      "Nhập số m chiều cao:\n",
      "Nhập cân nặng kg:\n",
      "Bình thường\n"
     ]
    }
   ],
   "source": [
    "print (\"Nhập số m chiều cao:\")\n",
    "h = float(input())\n",
    "print (\"Nhập cân nặng kg:\")\n",
    "w = float(input())\n",
    "BMI = w / (h*h)\n",
    "if (17 <= BMI < 18.5):\n",
    "    print (\"Gầy độ I\")\n",
    "elif (18.5 <= BMI < 25):\n",
    "    print (\"Bình thường\")\n",
    "elif (25 <= BMI <30):\n",
    "    print(\"thừa cân\")\n",
    "elif (30 <= BMI < 35):\n",
    "    print (\"béo phì độ I\")\n",
    "elif (35 <= BMI):\n",
    "    print (\"béo phì độ II\")\n",
    "else: \n",
    "    print (\"ngoài khoảng cho phép\")"
   ]
  }
 ],
 "metadata": {
  "interpreter": {
   "hash": "38740d3277777e2cd7c6c2cc9d8addf5118fdf3f82b1b39231fd12aeac8aee8b"
  },
  "kernelspec": {
   "display_name": "Python 3.7.8 64-bit",
   "language": "python",
   "name": "python3"
  },
  "language_info": {
   "codemirror_mode": {
    "name": "ipython",
    "version": 3
   },
   "file_extension": ".py",
   "mimetype": "text/x-python",
   "name": "python",
   "nbconvert_exporter": "python",
   "pygments_lexer": "ipython3",
   "version": "3.7.8"
  },
  "orig_nbformat": 4
 },
 "nbformat": 4,
 "nbformat_minor": 2
}
