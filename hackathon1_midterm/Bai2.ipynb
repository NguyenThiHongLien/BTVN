{
 "cells": [
  {
   "cell_type": "code",
   "execution_count": 28,
   "source": [
    "# Easy [1] Day different:\r\n",
    "#Viết hàm day_diff() nhận vào ngày phải release sản phẩm và ngày đội dev viết xong code. \r\n",
    "# Tính số ngày mà team test có để test sản phẩm (= release_date - code_complete_day). \r\n",
    "# Lưu ý, ngày release sản phẩm sẽ ở định dạng 19/12/2021 còn ngày code_complete có định dạng 2021-17-05\r\n",
    "\r\n",
    "from datetime import datetime\r\n",
    "import time\r\n",
    "def day_diff(release_date, code_complete_day):\r\n",
    "    day_left = datetime.strptime(release_date, '%d/%m/%Y') - datetime.strptime(code_complete_day, '%Y-%d-%m')\r\n",
    "    return day_left.days\r\n",
    "print(day_diff(\"19/12/2021\",\"2021-17-05\"))"
   ],
   "outputs": [
    {
     "output_type": "stream",
     "name": "stdout",
     "text": [
      "216\n"
     ]
    }
   ],
   "metadata": {}
  },
  {
   "cell_type": "markdown",
   "source": [],
   "metadata": {}
  }
 ],
 "metadata": {
  "orig_nbformat": 4,
  "language_info": {
   "name": "python",
   "version": "3.7.8",
   "mimetype": "text/x-python",
   "codemirror_mode": {
    "name": "ipython",
    "version": 3
   },
   "pygments_lexer": "ipython3",
   "nbconvert_exporter": "python",
   "file_extension": ".py"
  },
  "kernelspec": {
   "name": "python3",
   "display_name": "Python 3.7.8 64-bit"
  },
  "interpreter": {
   "hash": "38740d3277777e2cd7c6c2cc9d8addf5118fdf3f82b1b39231fd12aeac8aee8b"
  }
 },
 "nbformat": 4,
 "nbformat_minor": 2
}