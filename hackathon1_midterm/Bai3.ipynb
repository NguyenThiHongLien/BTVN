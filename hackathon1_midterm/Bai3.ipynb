{
 "cells": [
  {
   "cell_type": "code",
   "execution_count": 3,
   "source": [
    "# Medium [1] Anagram Number:\r\n",
    "#Viết hàm anagram_number() có đầu vào là một số nguyên và trả ra True nếu sau khi đảo ngược thứ tự các chữ số của số đó vẫn cho ta số ban đầu. \r\n",
    "# Trả ra False nếu không giống.\r\n",
    "#vd: anagram_number(121121) == True\r\n",
    "    #anagram_number(1254) == False\r\n",
    "\r\n",
    "def anagram_number(number):\r\n",
    "    string1 = str(number)\r\n",
    "    string2 = ''.join(reversed(string1))\r\n",
    "    number1 = int(string2)\r\n",
    "    if number == number1:\r\n",
    "        return True\r\n",
    "    else:\r\n",
    "        return False\r\n",
    "print(anagram_number(1254))\r\n",
    "#print(anagram_number(121121))"
   ],
   "outputs": [
    {
     "output_type": "stream",
     "name": "stdout",
     "text": [
      "False\n"
     ]
    }
   ],
   "metadata": {}
  }
 ],
 "metadata": {
  "orig_nbformat": 4,
  "language_info": {
   "name": "python",
   "version": "3.7.8",
   "mimetype": "text/x-python",
   "codemirror_mode": {
    "name": "ipython",
    "version": 3
   },
   "pygments_lexer": "ipython3",
   "nbconvert_exporter": "python",
   "file_extension": ".py"
  },
  "kernelspec": {
   "name": "python3",
   "display_name": "Python 3.7.8 64-bit"
  },
  "interpreter": {
   "hash": "38740d3277777e2cd7c6c2cc9d8addf5118fdf3f82b1b39231fd12aeac8aee8b"
  }
 },
 "nbformat": 4,
 "nbformat_minor": 2
}