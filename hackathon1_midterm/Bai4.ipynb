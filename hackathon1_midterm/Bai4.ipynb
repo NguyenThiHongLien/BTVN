{
 "cells": [
  {
   "cell_type": "code",
   "execution_count": 24,
   "source": [
    "def roman_to_int(s):\r\n",
    "    sum=0\r\n",
    "    dict={'M':1000,'D':500,'C':100,'L':50,'X':10,'V':5,'I':1}\r\n",
    "\r\n",
    "    for i in range(len(s)):\r\n",
    "        if i==0:\r\n",
    "            sum=sum+dict[s[i]]\r\n",
    "        else:\r\n",
    "            if s[i]=='M':\r\n",
    "                sum=sum+1000\r\n",
    "                if s[i-1]=='C':\r\n",
    "                    sum=sum-200      \r\n",
    "\r\n",
    "            elif s[i]=='D':\r\n",
    "                sum=sum+500\r\n",
    "                if s[i-1]=='C':\r\n",
    "                    sum=sum-200\r\n",
    "\r\n",
    "            elif s[i]=='C':\r\n",
    "                sum=sum+100\r\n",
    "                if s[i-1]=='X':\r\n",
    "                    sum=sum-20\r\n",
    "\r\n",
    "            elif s[i]=='L':\r\n",
    "                sum=sum+50\r\n",
    "                if s[i-1]=='X':\r\n",
    "                    sum=sum-20\r\n",
    "\r\n",
    "            elif s[i]=='X':\r\n",
    "                sum=sum+10\r\n",
    "                if s[i-1]=='I':\r\n",
    "                    sum=sum-2\r\n",
    "\r\n",
    "            elif s[i]=='V':\r\n",
    "                sum=sum+5\r\n",
    "                if s[i-1]=='I':\r\n",
    "                    sum=sum-2\r\n",
    "            elif s[i]=='I':\r\n",
    "                sum=sum+1\r\n",
    "    return (sum)\r\n",
    "print(roman_to_int(\"MCMXCIV\"))"
   ],
   "outputs": [
    {
     "output_type": "stream",
     "name": "stdout",
     "text": [
      "1994\n"
     ]
    }
   ],
   "metadata": {}
  },
  {
   "cell_type": "code",
   "execution_count": 38,
   "source": [
    "# Medium [2] Roman to Integer\r\n",
    "#Các chữ số La Mã được thể hiện bằng bảy biểu tượng khác nhau: I, V, X, L, C, D và M với\r\n",
    "#I=1; V=5; X=10; L=50; C=100; D=500; M=1000\r\n",
    "\r\n",
    "#Ví dụ: số 2 được viết là II bằng số La Mã, chỉ là hai chữ I được thêm vào với nhau. 12 được viết là XII, đơn giản là X + II. Con số 27 được viết là XXVII, là XX + V + II.\r\n",
    "\r\n",
    "#Chữ số La mã thường được viết từ lớn nhất đến nhỏ nhất từ trái sang phải. Tuy nhiên, số 4 không viết là IIII mà được viết là IV. Bởi vì I đứng trước V, chúng ta lấy 5 - 1 = 4. Nguyên tắc tương tự cũng áp dụng cho số chín, được viết là IX. Có sáu trường hợp phép trừ được sử dụng:\r\n",
    "\r\n",
    "#I có thể được đặt trước V (5) và X (10) để tạo thành 4 và 9.\r\n",
    "#X có thể được đặt trước L (50) và C (100) để tạo ra 40 và 90.\r\n",
    "#C có thể được đặt trước D (500) và M (1000) để tạo thành 400 và 900.\r\n",
    "#Cho một chữ số la mã dạng string, hãy viết hàm roman_to_int() chuyển nó thành một số nguyên.\r\n",
    "\r\n",
    "\r\n",
    "def roman_to_int(s):\r\n",
    "        rom_val = {'I': 1, 'V': 5, 'X': 10, 'L': 50, 'C': 100, 'D': 500, 'M': 1000}\r\n",
    "        int_val = 0\r\n",
    "        for i in range(len(s)):\r\n",
    "            if i > 0 and rom_val[s[i]] > rom_val[s[i - 1]]:\r\n",
    "                int_val = int_val+ rom_val[s[i]] - 2*rom_val[s[i - 1]]\r\n",
    "            else:\r\n",
    "                int_val = int_val + rom_val[s[i]]\r\n",
    "        return int_val\r\n",
    "\r\n",
    "print(roman_to_int('IX'))\r\n",
    "print(roman_to_int('LVIII'))\r\n",
    "print(roman_to_int('MCMXCIV'))"
   ],
   "outputs": [
    {
     "output_type": "stream",
     "name": "stdout",
     "text": [
      "9\n",
      "58\n",
      "1994\n"
     ]
    }
   ],
   "metadata": {}
  }
 ],
 "metadata": {
  "orig_nbformat": 4,
  "language_info": {
   "name": "python",
   "version": "3.7.8",
   "mimetype": "text/x-python",
   "codemirror_mode": {
    "name": "ipython",
    "version": 3
   },
   "pygments_lexer": "ipython3",
   "nbconvert_exporter": "python",
   "file_extension": ".py"
  },
  "kernelspec": {
   "name": "python3",
   "display_name": "Python 3.7.8 64-bit"
  },
  "interpreter": {
   "hash": "38740d3277777e2cd7c6c2cc9d8addf5118fdf3f82b1b39231fd12aeac8aee8b"
  }
 },
 "nbformat": 4,
 "nbformat_minor": 2
}