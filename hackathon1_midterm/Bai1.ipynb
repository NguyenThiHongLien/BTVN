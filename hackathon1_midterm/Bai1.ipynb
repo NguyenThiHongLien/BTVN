{
 "cells": [
  {
   "cell_type": "code",
   "execution_count": 18,
   "source": [
    "# Easy [2] Alphabet and Number:\r\n",
    "#Viết hàm alpha_num() tìm tất cả những từ trong một câu có chứa cả chữ cái và số. Trả ra danh sách các từ như vậy trong một câu.\r\n",
    "#Vd:\r\n",
    "#str1 = \"Emma25 is Data scientist50 and AI Expert\"\r\n",
    "#alpha_num(str1) == [\"Emma25\", \"scientist50\"]\r\n",
    "\r\n",
    "import re\r\n",
    "str1 = \"Emma25 is Data scientist50 and AI Expert\"\r\n",
    "def alpha_num(str):\r\n",
    "    list1 = []\r\n",
    "    for i in str.split():\r\n",
    "            if i.isalpha():\r\n",
    "                pass\r\n",
    "            elif i.isdigit():\r\n",
    "                pass\r\n",
    "            else:\r\n",
    "                list1.append(i)\r\n",
    "    return list1\r\n",
    "print(alpha_num(str1))"
   ],
   "outputs": [
    {
     "output_type": "stream",
     "name": "stdout",
     "text": [
      "['Emma25', 'scientist50']\n"
     ]
    }
   ],
   "metadata": {}
  }
 ],
 "metadata": {
  "orig_nbformat": 4,
  "language_info": {
   "name": "python",
   "version": "3.7.8",
   "mimetype": "text/x-python",
   "codemirror_mode": {
    "name": "ipython",
    "version": 3
   },
   "pygments_lexer": "ipython3",
   "nbconvert_exporter": "python",
   "file_extension": ".py"
  },
  "kernelspec": {
   "name": "python3",
   "display_name": "Python 3.7.8 64-bit"
  },
  "interpreter": {
   "hash": "38740d3277777e2cd7c6c2cc9d8addf5118fdf3f82b1b39231fd12aeac8aee8b"
  }
 },
 "nbformat": 4,
 "nbformat_minor": 2
}