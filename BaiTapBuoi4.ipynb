{
 "cells": [
  {
   "cell_type": "markdown",
   "metadata": {},
   "source": [
    "### Bài 2:\n",
    "Print Star\n",
    "Hãy viết chương trình in ra các hình sau (dùng ký tự '*' và ký tự space) với n là số dòng. Vd: n = 4:"
   ]
  },
  {
   "cell_type": "code",
   "execution_count": 12,
   "metadata": {},
   "outputs": [
    {
     "name": "stdout",
     "output_type": "stream",
     "text": [
      "Bài 2:\n",
      "Vẽ Hình số 1:\n",
      "       *\n",
      "     * *\n",
      "   * * *\n",
      " * * * *\n",
      "Vẽ Hình số 2:\n",
      "   *    \n",
      "  **    \n",
      " ***    \n",
      "********\n",
      "    *** \n",
      "    **  \n",
      "    *   \n"
     ]
    }
   ],
   "source": [
    "\n",
    "\n",
    "print(\"Bài 2:\")\n",
    "\n",
    "#Hình 1:\n",
    "n = 4\n",
    " \n",
    "print(\"Vẽ Hình số 1:\")\n",
    "for i in range(1, n+1):\n",
    "    for j in range(n-i,0,-1):\n",
    "        print(\"\", end = \"  \")\n",
    "  \n",
    " \n",
    "    for j in range(n,n-i,-1):\n",
    "        print(\" *\", end = \"\")\n",
    "    \n",
    "    \n",
    "    print()\n",
    "\n",
    "#Hình 2:\n",
    "n = 4\n",
    "print(\"Vẽ Hình số 2:\")\n",
    "for row in range(-n+1, n):\n",
    "    rowStr = ''\n",
    "    for col in range(n, -n, -1):\n",
    "        if row < 0:\n",
    "            if col >0 and abs(row)+abs(col)<=n:\n",
    "                rowStr += '*'  \n",
    "            else:\n",
    "                rowStr += ' '  \n",
    "        elif row == 0:\n",
    "            rowStr += '*'\n",
    "        else :\n",
    "            if col <=0 and abs(row)+abs(col)<n:\n",
    "                rowStr += '*'  \n",
    "            else:\n",
    "                rowStr += ' ' \n",
    "    print(rowStr)\n",
    "\n",
    "#Hình 3:"
   ]
  },
  {
   "cell_type": "markdown",
   "metadata": {},
   "source": [
    "### Bài 5:\n",
    "Cho list A chứa các số nguyên đã sắp xếp theo thứ tự tăng dần.\n",
    "Vd A = [3, 6, 7, 9, 11, 12] và một số nguyên sum. Tìm tất cả các cặp số (a,b) trong mảng A có tổng bằng sum\n",
    "vd ở đây nếu sum = 18 thì kết quả là [(7,11), (6,12)]. Nếu không có cặp số nào thỏa mãn thì in ra list rỗng []"
   ]
  },
  {
   "cell_type": "code",
   "execution_count": 9,
   "metadata": {},
   "outputs": [
    {
     "name": "stdout",
     "output_type": "stream",
     "text": [
      "Bài 5:\n"
     ]
    },
    {
     "data": {
      "text/plain": [
       "[(6, 12), (7, 11)]"
      ]
     },
     "execution_count": 9,
     "metadata": {},
     "output_type": "execute_result"
    }
   ],
   "source": [
    "\n",
    "print(\"Bài 5:\")\n",
    "\n",
    "A = [3, 6, 7, 9, 11, 12]\n",
    "def find_pair(A, sum):\n",
    "    ans = []\n",
    "    for i in range(len(A)-1):\n",
    "        for j in range(i+1, len(A)):\n",
    "            if A[i] + A[j] == sum:\n",
    "                ans.append((A[i], A[j]))\n",
    "    return ans\n",
    "find_pair([3, 6, 7, 9, 11, 12], 18)"
   ]
  },
  {
   "cell_type": "markdown",
   "metadata": {},
   "source": [
    "### Bài 3:\n",
    "Viết chương trình in ra thời gian đếm ngược đến XMas 2021 sau mỗi khoảng thời gian nhất định.\n",
    "\n",
    "vd in ra sau mỗi 5s:\n",
    "\n",
    "Countdown to Xmas 2021: 112 days, 11:47:01.339588\n",
    "Countdown to Xmas 2021: 112 days, 11:46:56.324008\n",
    "Countdown to Xmas 2021: 112 days, 11:46:51.310473"
   ]
  },
  {
   "cell_type": "code",
   "execution_count": 7,
   "metadata": {},
   "outputs": [
    {
     "name": "stdout",
     "output_type": "stream",
     "text": [
      "Countdown to Xmas 2021: 26 days, 7:42:07.619395\n",
      "Countdown to Xmas 2021: 26 days, 7:42:06.601375\n",
      "Countdown to Xmas 2021: 26 days, 7:42:05.585655\n",
      "Countdown to Xmas 2021: 26 days, 7:42:04.569804\n",
      "Countdown to Xmas 2021: 26 days, 7:42:03.568709\n",
      "Countdown to Xmas 2021: 26 days, 7:42:02.553129\n",
      "Countdown to Xmas 2021: 26 days, 7:42:01.546008\n",
      "Countdown to Xmas 2021: 26 days, 7:42:00.536394\n"
     ]
    },
    {
     "ename": "KeyboardInterrupt",
     "evalue": "",
     "output_type": "error",
     "traceback": [
      "\u001b[1;31m---------------------------------------------------------------------------\u001b[0m",
      "\u001b[1;31mKeyboardInterrupt\u001b[0m                         Traceback (most recent call last)",
      "\u001b[1;32m~\\AppData\\Local\\Temp/ipykernel_15612/31499330.py\u001b[0m in \u001b[0;36m<module>\u001b[1;34m\u001b[0m\n\u001b[0;32m      5\u001b[0m \u001b[1;33m\u001b[0m\u001b[0m\n\u001b[0;32m      6\u001b[0m \u001b[1;32mwhile\u001b[0m \u001b[1;32mTrue\u001b[0m\u001b[1;33m:\u001b[0m\u001b[1;33m\u001b[0m\u001b[1;33m\u001b[0m\u001b[0m\n\u001b[1;32m----> 7\u001b[1;33m     \u001b[0mtime\u001b[0m\u001b[1;33m.\u001b[0m\u001b[0msleep\u001b[0m\u001b[1;33m(\u001b[0m\u001b[0mstep\u001b[0m\u001b[1;33m)\u001b[0m\u001b[1;33m\u001b[0m\u001b[1;33m\u001b[0m\u001b[0m\n\u001b[0m\u001b[0;32m      8\u001b[0m     \u001b[0mXMAS_DATE\u001b[0m \u001b[1;33m=\u001b[0m \u001b[0mdatetime\u001b[0m\u001b[1;33m(\u001b[0m\u001b[0myear\u001b[0m\u001b[1;33m=\u001b[0m\u001b[1;36m2021\u001b[0m\u001b[1;33m,\u001b[0m \u001b[0mmonth\u001b[0m\u001b[1;33m=\u001b[0m\u001b[1;36m12\u001b[0m\u001b[1;33m,\u001b[0m \u001b[0mday\u001b[0m\u001b[1;33m=\u001b[0m\u001b[1;36m24\u001b[0m\u001b[1;33m)\u001b[0m\u001b[1;33m\u001b[0m\u001b[1;33m\u001b[0m\u001b[0m\n\u001b[0;32m      9\u001b[0m     \u001b[0mcountdown\u001b[0m \u001b[1;33m=\u001b[0m \u001b[0mXMAS_DATE\u001b[0m \u001b[1;33m-\u001b[0m \u001b[0mdatetime\u001b[0m\u001b[1;33m.\u001b[0m\u001b[0mnow\u001b[0m\u001b[1;33m(\u001b[0m\u001b[1;33m)\u001b[0m\u001b[1;33m\u001b[0m\u001b[1;33m\u001b[0m\u001b[0m\n",
      "\u001b[1;31mKeyboardInterrupt\u001b[0m: "
     ]
    }
   ],
   "source": [
    "\n",
    "\n",
    "\n",
    "import time\n",
    "from datetime import datetime\n",
    "\n",
    "step = int(input(\"nhập sau số giây muốn in ra\"))\n",
    "\n",
    "while True:\n",
    "    time.sleep(step)\n",
    "    XMAS_DATE = datetime(year=2021, month=12, day=24)\n",
    "    countdown = XMAS_DATE - datetime.now()\n",
    "    print(f\"Countdown to Xmas 2021: {countdown}\")\n",
    "    if countdown == 0:\n",
    "        break"
   ]
  },
  {
   "cell_type": "markdown",
   "metadata": {},
   "source": [
    "### Bài 4_ Unique value Dictionary:\n",
    "Cho một list gồm 1 hoặc nhiều từ điển (Dictionary). Viết hàm để trả ra tập hợp tất cả các giá trị (values) duy nhất trong tất cả danh sách các từ điển trên. \n",
    "\n",
    "[VD1]: Trường hợp dưới đây danh sách đầu vào có 1 từ điển map tên người vào tuổi của họ. Trả ra set các tuổi duy nhất.\n",
    "\n",
    "    unique_value_dict([dict(Trang=38, Thu=38, Ngoc=27, Thanh=26, Yen=25, Hang=22, Thuy=22)]) == {22, 25, 26, 27, 38}\n",
    "\n",
    "[VD2]: Trường hợp dưới đây danh sách đầu vào có 7 dicts, mỗi dict chỉ có 1 cặp key-values. 5 giá trị trả về là duy nhất.\n",
    "\n",
    "    unique_value_dict([{\"V\":\"S001\"}, {\"V\": \"S002\"}, {\"VI\": \"S001\"}, {\"VI\": \"S005\"}, {\"VII\":\"S005\"}, {\"V\":\"S009\"},{\"VIII\":\"S007\"}]) == {'S009', 'S007', 'S002', 'S001', 'S005'}"
   ]
  },
  {
   "cell_type": "code",
   "execution_count": 2,
   "metadata": {},
   "outputs": [
    {
     "name": "stdout",
     "output_type": "stream",
     "text": [
      "Bài 4:\n"
     ]
    },
    {
     "data": {
      "text/plain": [
       "{22, 25, 26, 27, 38}"
      ]
     },
     "execution_count": 2,
     "metadata": {},
     "output_type": "execute_result"
    }
   ],
   "source": [
    "\n",
    "\n",
    "print(\"Bài 4:\")\n",
    "\n",
    "my_dict = [dict(Trang=38, Thu=38, Ngoc=27, Thanh=26, Yen=25, Hang=22, Thuy=22)]\n",
    "def unique_value_dict(my_dict):\n",
    "    return set( val for dic in my_dict for val in dic.values())\n",
    "\n",
    "unique_value_dict(my_dict)\n",
    "\n"
   ]
  },
  {
   "cell_type": "markdown",
   "metadata": {},
   "source": [
    "### Bài 1:\n",
    "Viết chương trình trả ra từ điển với key là các số trong list, value là số lần xuất hiện của số trong list\n",
    "my_list = [10, 21, 21, 40, 40, 52, 52, 1, 1, 2, 2, 2, 2, 11, 11, 11, 11, 25, 24, 24, 60, 40]\n",
    "Trả ra\n",
    "{10: 1, 21: 2, 40: 3, 52: 2, 1: 2, 2: 4, 11: 4, 25: 1, 24: 2, 60: 1}"
   ]
  },
  {
   "cell_type": "code",
   "execution_count": 1,
   "metadata": {},
   "outputs": [
    {
     "name": "stdout",
     "output_type": "stream",
     "text": [
      "Bài 1:\n",
      "Cách 1:\n",
      "Trả ra sau quy đổi: {10: 1, 21: 2, 40: 3, 52: 2, 1: 2, 2: 4, 11: 4, 25: 1, 24: 2, 60: 1}\n",
      "Cách 2:\n",
      "Trả ra sau quy đổi: {10: 1, 21: 2, 40: 3, 52: 2, 1: 2, 2: 4, 11: 4, 25: 1, 24: 2, 60: 1}\n"
     ]
    }
   ],
   "source": [
    "\n",
    "\n",
    "print(\"Bài 1:\")\n",
    "\n",
    "#cách 1:\n",
    "print(\"Cách 1:\")\n",
    "my_list = [10, 21, 21, 40, 40, 52, 52, 1, 1, 2, 2, 2, 2, 11, 11, 11, 11, 25, 24, 24, 60, 40]\n",
    "from collections import Counter\n",
    "count=Counter(my_list)\n",
    "my_dict = dict(count)\n",
    "print(\"Trả ra sau quy đổi:\",my_dict)\n",
    "\n",
    "print(\"Cách 2:\")\n",
    "#cách 2:\n",
    "my_list = [10, 21, 21, 40, 40, 52, 52, 1, 1, 2, 2, 2, 2, 11, 11, 11, 11, 25, 24, 24, 60, 40]\n",
    "count = {}\n",
    "for i in my_list:\n",
    "    if i in count:\n",
    "        count[i] = count[i] + 1\n",
    "    else:\n",
    "        count[i]=1\n",
    "print(\"Trả ra sau quy đổi:\",count)"
   ]
  }
 ],
 "metadata": {
  "interpreter": {
   "hash": "38740d3277777e2cd7c6c2cc9d8addf5118fdf3f82b1b39231fd12aeac8aee8b"
  },
  "kernelspec": {
   "display_name": "Python 3.7.8 64-bit",
   "language": "python",
   "name": "python3"
  },
  "language_info": {
   "codemirror_mode": {
    "name": "ipython",
    "version": 3
   },
   "file_extension": ".py",
   "mimetype": "text/x-python",
   "name": "python",
   "nbconvert_exporter": "python",
   "pygments_lexer": "ipython3",
   "version": "3.7.8"
  },
  "orig_nbformat": 4
 },
 "nbformat": 4,
 "nbformat_minor": 2
}
