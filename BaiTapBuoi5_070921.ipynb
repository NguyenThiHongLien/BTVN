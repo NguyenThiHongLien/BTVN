{
 "cells": [
  {
   "cell_type": "code",
   "execution_count": 65,
   "source": [
    "#Bài 1:\r\n",
    "#Viết hàm có đầu vào là 1 chuỗi, trả ra số chữ cái, số ký tự viết hoa, số ký tự viết thường và số chữ số trong chuỗi đó. Giả sử đầu vào sau được cấp cho hàm:\r\n",
    "\r\n",
    "#s = \"Hello World! 123\"\r\n",
    "\r\n",
    "#Hàm count_char_type(s) sẽ trả ra 1 dict {\"LETTERS\":10, \"CASE\": {\"UPPER CASE\":2, \"LOWER CASE\":8}, \"DIGITS\":3}. Lưu ý: value của key \"CASE\" là một dict có 2 keys là \"UPPER CASE\", \"LOWER CASE\".\r\n",
    "\r\n",
    "#a) Viết hàm trên dùng bất kỳ hàm built in nào của python\r\n",
    "#b) Viết hàm chỉ dùng 1 hàm built in duy nhất.\r\n",
    "#Gợi ý: Bộ ký tự đơn giản in ra màn hình được còn được gọi là bộ mã ASCII (đọc là 'As key') nguyên gốc gồm 128 ký tự. Bạn có thể in ra thử với câu lệnh sau.\r\n",
    "\r\n",
    "#ASCII = \"\".join(chr(x) for x in range(33, 128))\r\n",
    "#print(ASCII)\r\n",
    "\r\n",
    "#a,\r\n",
    "import re\r\n",
    "print(\"Nhập chuỗi ký tự và số:\")\r\n",
    "a = input()\r\n",
    "\r\n",
    "def match_string(words):\r\n",
    "    nums = 0\r\n",
    "    letter = 0\r\n",
    "    lower = 0\r\n",
    "    upper = 0\r\n",
    "    for i in words :\r\n",
    "        if i.isalpha():\r\n",
    "            letter+=1\r\n",
    "        if i.islower():\r\n",
    "            lower+=1\r\n",
    "        if i.isupper():\r\n",
    "            upper+=1\r\n",
    "        elif i.isdigit():\r\n",
    "            nums+=1\r\n",
    "    dict = {\"LETTERS\": letter, \"CASE\": {\"UPPER CASE\":upper, \"LOWER CASE\":lower}, \"DIGITS\":nums}\r\n",
    "    return dict\r\n",
    "\r\n",
    "x = match_string(a)\r\n",
    "print(x)\r\n",
    "\r\n",
    "#b, Chưa biết làm"
   ],
   "outputs": [
    {
     "output_type": "stream",
     "name": "stdout",
     "text": [
      "Nhập chuỗi ký tự và số:\n",
      "{'LETTERS': 0, 'CASE': {'UPPER CASE': 0, 'LOWER CASE': 0}, 'DIGITS': 4}\n"
     ]
    }
   ],
   "metadata": {}
  },
  {
   "cell_type": "code",
   "execution_count": 1,
   "source": [
    "#Bài 2:\r\n",
    "#Cho một list A các điểm thi (từ 0-10) của các học viên trong lớp. Viết 3 hàm tính:\r\n",
    "\r\n",
    "#giá trị trung bình (mean) của dãy.\r\n",
    "#trung vị (median) của dãy A. trung vị là một số đứng ở vị trí giữa trong dãy số đã được sắp xếp theo thứ tự tăng dần, median chia dãy số cho trước thành 2 nửa bằng nhau. Nếu độ dài của dãy số là số lẻ, thì số ở giữa là median, nếu chiều dài của dãy số là số chẵn thì median được xác định bằng cách lấy trung bình của hai số ở giữa.\r\n",
    "#mode của dãy A. Mode là phần tử có số lần xuất hiện nhiều nhất trong dãy. Mode sẽ giúp ta trả lời câu hỏi: \"Trong lớp này, học viên đạt Điểm số nào nhiều nhất?\".\r\n",
    "#Lưu ý: kết quả trả ra sẽ là 1 list vì mode có thể nhiều hơn 1 giá trị.\r\n",
    "\r\n",
    "#Vd:\r\n",
    "\r\n",
    "#A = [7, 8, 9, 2, 10, 9, 9, 9, 9, 4, 5, 6, 1, 5, 6, 7, 8, 6, 1, 10] ==> (mean(A), median(A), mode(A)) == (6.55, 7.0, [9])\r\n",
    "#B=[4,4,5,4,5,5] thì (mean(B), median(B), mode(B)) == (4.5, 4.5, [4,5])\r\n",
    "\r\n",
    "\r\n",
    "#Hàm mean:\r\n",
    "print(\"Nhập list điểm số cách nhau bằng dấu cách nha:\")\r\n",
    "my_list = list(map(int, input().split()))\r\n",
    "def mean(my_list):\r\n",
    "    sum=0\r\n",
    "    for i in my_list:\r\n",
    "        sum = sum + i\r\n",
    "        mean = sum / len(my_list)\r\n",
    "    return mean\r\n",
    "\r\n",
    "\r\n",
    "#Hàm median:\r\n",
    "def median(lst):\r\n",
    "    sortedLst = sorted(lst)\r\n",
    "    lstLen = len(lst)\r\n",
    "    index = (lstLen - 1) // 2\r\n",
    "\r\n",
    "    if (lstLen % 2):\r\n",
    "        return sortedLst[index]\r\n",
    "    else:\r\n",
    "        return (sortedLst[index] + sortedLst[index + 1])/2.\r\n",
    "\r\n",
    "#Hàm mode:\r\n",
    "def mode(my_list):\r\n",
    "    count = {}\r\n",
    "    for i in my_list:\r\n",
    "        if i in count:\r\n",
    "            count[i] = count[i] + 1\r\n",
    "        else:\r\n",
    "            count[i]=1\r\n",
    "    list_key = list(count.values())\r\n",
    "    max_value = max(list_key)\r\n",
    "    list_mode =[]\r\n",
    "    for k, v in count.items():\r\n",
    "       if max_value in [v]:\r\n",
    "           list_mode.append(k)\r\n",
    "    return list_mode\r\n",
    "\r\n",
    "Set = (mean(my_list),median(my_list),mode(my_list))\r\n",
    "print(Set)\r\n"
   ],
   "outputs": [
    {
     "output_type": "stream",
     "name": "stdout",
     "text": [
      "Nhập list điểm số cách nhau bằng dấu cách nha:\n",
      "(4.909090909090909, 5, [5, 6, 7])\n"
     ]
    }
   ],
   "metadata": {}
  }
 ],
 "metadata": {
  "orig_nbformat": 4,
  "language_info": {
   "name": "python",
   "version": "3.7.8",
   "mimetype": "text/x-python",
   "codemirror_mode": {
    "name": "ipython",
    "version": 3
   },
   "pygments_lexer": "ipython3",
   "nbconvert_exporter": "python",
   "file_extension": ".py"
  },
  "kernelspec": {
   "name": "python3",
   "display_name": "Python 3.7.8 64-bit"
  },
  "interpreter": {
   "hash": "38740d3277777e2cd7c6c2cc9d8addf5118fdf3f82b1b39231fd12aeac8aee8b"
  }
 },
 "nbformat": 4,
 "nbformat_minor": 2
}