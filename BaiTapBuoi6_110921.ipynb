{
 "cells": [
  {
   "cell_type": "code",
   "execution_count": 58,
   "source": [
    "#Bài 1:\r\n",
    "#Cho 1 chuỗi A (vd: \"tHE fOX iS cOMING fOR tHE cHICKEN\"). \r\n",
    "# Viết hàm đảo ngược thứ tự các từ trong chuỗi và đổi tất cả các chữ cái từ hoa thành thường và ngược lại.\r\n",
    "# (kết quả là \"Chicken The For Coming Is Fox The\")\r\n",
    "\r\n",
    "print(\"Nhập chuỗi A:\")\r\n",
    "my_string = list(map(str, input().split()))\r\n",
    "def convert_string(chuoiA):\r\n",
    "    return ' '.join(reversed(chuoiA)).swapcase()\r\n",
    "   \r\n",
    "print('Kết quả là','\"',convert_string(my_string),'\"' )"
   ],
   "outputs": [
    {
     "output_type": "stream",
     "name": "stdout",
     "text": [
      "Nhập chuỗi A:\n",
      "Kết quả là \" lIÊN hỒNG tHỊ nGUYỄN \"\n"
     ]
    }
   ],
   "metadata": {}
  },
  {
   "cell_type": "code",
   "execution_count": 22,
   "source": [
    "#Bài 2:\r\n",
    "#Điểm thi học kỳ của sinh viên được lưu ở định dạng 1 tuple có 3 phần tử (m1, m2, e) gồm:\r\n",
    "\r\n",
    "#m1 = midterm1\r\n",
    "#m2 = midterm2\r\n",
    "#e = endterm\r\n",
    "#Cho một list gồm danh sách điểm thi của sinh viên 1 lớp. Viết chương trình Python để sắp xếp danh sách trước theo thứ tự tăng \r\n",
    "# dần theo phần tử cuối cùng trong mỗi tuple (sắp xếp theo điểm cuối kỳ - endterm tăng dần).\r\n",
    "#vd sort_list_last([(1, 2, 5), (9, 1, 2), (6, 4, 4), (3, 2, 3), (10, 2, 1)]) == [(10, 2, 1), (9, 1, 2), (3, 2, 3), (6, 4, 4), (1, 2, 5)]\r\n",
    "\r\n",
    "\r\n",
    "List_diem_thi = [(1, 2, 5), (9, 1, 2), (6, 4, 4), (3, 2, 3), (10, 2, 1)]\r\n",
    "print(\"Kết quả sắp xếp tăng dần theo điểm cuối kỳ là: \",sorted(List_diem_thi,key=lambda x: x[::-1]))\r\n"
   ],
   "outputs": [
    {
     "output_type": "stream",
     "name": "stdout",
     "text": [
      "Kết quả sắp xếp tăng dần theo điểm cuối kỳ là:  [(10, 2, 1), (9, 1, 2), (3, 2, 3), (6, 4, 4), (1, 2, 5)]\n"
     ]
    }
   ],
   "metadata": {}
  },
  {
   "cell_type": "code",
   "execution_count": 60,
   "source": [
    "#Bài 3:"
   ],
   "outputs": [],
   "metadata": {}
  }
 ],
 "metadata": {
  "orig_nbformat": 4,
  "language_info": {
   "name": "python",
   "version": "3.7.8",
   "mimetype": "text/x-python",
   "codemirror_mode": {
    "name": "ipython",
    "version": 3
   },
   "pygments_lexer": "ipython3",
   "nbconvert_exporter": "python",
   "file_extension": ".py"
  },
  "kernelspec": {
   "name": "python3",
   "display_name": "Python 3.7.8 64-bit"
  },
  "interpreter": {
   "hash": "38740d3277777e2cd7c6c2cc9d8addf5118fdf3f82b1b39231fd12aeac8aee8b"
  }
 },
 "nbformat": 4,
 "nbformat_minor": 2
}