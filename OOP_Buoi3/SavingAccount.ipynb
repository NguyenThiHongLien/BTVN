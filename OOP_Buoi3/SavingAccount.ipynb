{
 "cells": [
  {
   "cell_type": "code",
   "execution_count": 7,
   "source": [
    "class BankAccount:\r\n",
    "    def __init__(self, account_number, account_name, balance):\r\n",
    "        self._account_number = account_number\r\n",
    "        self._account_name = account_name\r\n",
    "        #self.set_balance(balance)\r\n",
    "        self._balance = balance\r\n",
    "        #self.balance\r\n",
    "    \r\n",
    "    @property\r\n",
    "    def get_account_number(self):\r\n",
    "        return self._account_number\r\n",
    "\r\n",
    "    @property\r\n",
    "    def get_account_name(self):\r\n",
    "        return self._account_name\r\n",
    "\r\n",
    "    @property\r\n",
    "    def get_balance(self):\r\n",
    "        return self._balance\r\n",
    "    \r\n",
    "\r\n",
    "    def withdraw(self,amount):\r\n",
    "        if 0<= amount <= self._balance :\r\n",
    "            self._balance -= amount\r\n",
    "        else:\r\n",
    "            print(\"Không đủ số dư để rút\")\r\n",
    "\r\n",
    "\r\n",
    "    def deposit(self, amount):\r\n",
    "        if amount > 0:\r\n",
    "            self._balance +=  amount\r\n",
    "        else:\r\n",
    "            print('Phải nạp số tiền lớn hơn 0')\r\n",
    "\r\n",
    "    @get_balance.setter\r\n",
    "    def balance(self, new_balance):\r\n",
    "        if new_balance >= 0:\r\n",
    "            self._balance = new_balance\r\n",
    "        if new_balance <0:\r\n",
    "            print(\"Số dư không hợp lệ\")\r\n",
    "\r\n",
    "    def display(self):\r\n",
    "        print(f\"Acount number: {self.get_account_number}, Account name: {self.get_account_name}, Account balace: {self.get_balance}\")\r\n",
    "\r\n",
    "class SavingAccount(BankAccount):\r\n",
    "    def __init__(self,account_number, account_name, balance,monthly_interest_rate=0.005):\r\n",
    "        super().__init__(account_number, account_name, balance)\r\n",
    "        self.monthly_interest_rate = monthly_interest_rate\r\n",
    "\r\n",
    "    def calculate_interest(self):\r\n",
    "        return self.balance * self.monthly_interest_rate\r\n",
    "\r\n",
    "    def display(self):\r\n",
    "        print(f\"Acount number: {self.get_account_number}, Account name: {self.get_account_name}, Account balace: {self.get_balance}, Interest: {self.monthly_interest_rate}\") \r\n",
    "\r\n",
    "#Liennth1 = BankAccount('12345678', \"Hồng Liên\", 0)\r\n",
    "#Liennth1.deposit(2000000)\r\n",
    "#Liennth1.withdraw(500000)\r\n",
    "#Liennth1.display()\r\n",
    "\r\n",
    "Lien = SavingAccount('TCB', 'Nguyen Thi Hong Lien', 3890000, 0.005)\r\n",
    "Lien.display()\r\n",
    "Lien.calculate_interest()"
   ],
   "outputs": [
    {
     "output_type": "stream",
     "name": "stdout",
     "text": [
      "Acount number: TCB, Account name: Nguyen Thi Hong Lien, Account balace: 3890000, Interest: 0.005\n"
     ]
    },
    {
     "output_type": "execute_result",
     "data": {
      "text/plain": [
       "19450.0"
      ]
     },
     "metadata": {},
     "execution_count": 7
    }
   ],
   "metadata": {}
  }
 ],
 "metadata": {
  "orig_nbformat": 4,
  "language_info": {
   "name": "python",
   "version": "3.7.8",
   "mimetype": "text/x-python",
   "codemirror_mode": {
    "name": "ipython",
    "version": 3
   },
   "pygments_lexer": "ipython3",
   "nbconvert_exporter": "python",
   "file_extension": ".py"
  },
  "kernelspec": {
   "name": "python3",
   "display_name": "Python 3.7.8 64-bit"
  },
  "interpreter": {
   "hash": "38740d3277777e2cd7c6c2cc9d8addf5118fdf3f82b1b39231fd12aeac8aee8b"
  }
 },
 "nbformat": 4,
 "nbformat_minor": 2
}