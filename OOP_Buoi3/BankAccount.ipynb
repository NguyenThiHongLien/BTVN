{
 "cells": [
  {
   "cell_type": "code",
   "execution_count": 24,
   "source": [
    "#Thay đổi class `BankAccount`:\r\n",
    "#`_account_name` thành `_owner` là một `Customer`\r\n",
    "# `display()` hiển thị thông tin số tài khoản, thông tin khách hàng và số dư\r\n",
    "\r\n",
    "class Customer:\r\n",
    "    def __init__(self,owner):\r\n",
    "        self.owner = owner\r\n",
    "    def get_info(self):\r\n",
    "        print(f\"OWner: {self.owner}\")\r\n",
    "\r\n",
    "class BankAccount:\r\n",
    "    def __init__(self, account_number, owner, balance):\r\n",
    "        self._account_number = account_number\r\n",
    "        self.owner = owner\r\n",
    "        self.balance = balance\r\n",
    "\r\n",
    "    def get_info(self):\r\n",
    "        super().get_info(self) \r\n",
    "    \r\n",
    "    @property\r\n",
    "    def get_account_number(self):\r\n",
    "        return self._account_number\r\n",
    "\r\n",
    "    @property\r\n",
    "    def get_owner(self):\r\n",
    "        return self.owner\r\n",
    "\r\n",
    "    @property\r\n",
    "    def get_balance(self):\r\n",
    "        return self._balance\r\n",
    "    \r\n",
    "\r\n",
    "    def withdraw(self,amount):\r\n",
    "        if 0<= amount <= self._balance :\r\n",
    "            self._balance -= amount\r\n",
    "        else:\r\n",
    "            print(\"Không đủ số dư để rút\")\r\n",
    "\r\n",
    "\r\n",
    "    def deposit(self, amount):\r\n",
    "        if amount > 0:\r\n",
    "            self._balance +=  amount\r\n",
    "        else:\r\n",
    "            print('Phải nạp số tiền lớn hơn 0')\r\n",
    "\r\n",
    "    @get_balance.setter\r\n",
    "    def balance(self, new_balance):\r\n",
    "        if new_balance >= 0:\r\n",
    "            self._balance = new_balance\r\n",
    "        if new_balance <0:\r\n",
    "            print(\"Số dư không hợp lệ\")\r\n",
    "\r\n",
    "    def display(self):\r\n",
    "        print(f\"Acount number: {self.get_account_number}, Account name - {self.get_owner}, Account balace: {self.get_balance}\")\r\n",
    "\r\n",
    "\r\n",
    "Lien =Customer(\"Liennth1\")\r\n",
    "Lien_Bank = BankAccount('TCB',Lien, 2000000)\r\n",
    "Lien_Bank.display()\r\n",
    "Lien.get_info()"
   ],
   "outputs": [
    {
     "output_type": "stream",
     "name": "stdout",
     "text": [
      "Acount number: TCB, Account name - <__main__.Customer object at 0x000001F3BCCD5348>, Account balace: 2000000\n",
      "OWner: Liennth1\n"
     ]
    }
   ],
   "metadata": {}
  }
 ],
 "metadata": {
  "orig_nbformat": 4,
  "language_info": {
   "name": "python",
   "version": "3.7.8",
   "mimetype": "text/x-python",
   "codemirror_mode": {
    "name": "ipython",
    "version": 3
   },
   "pygments_lexer": "ipython3",
   "nbconvert_exporter": "python",
   "file_extension": ".py"
  },
  "kernelspec": {
   "name": "python3",
   "display_name": "Python 3.7.8 64-bit"
  },
  "interpreter": {
   "hash": "38740d3277777e2cd7c6c2cc9d8addf5118fdf3f82b1b39231fd12aeac8aee8b"
  }
 },
 "nbformat": 4,
 "nbformat_minor": 2
}