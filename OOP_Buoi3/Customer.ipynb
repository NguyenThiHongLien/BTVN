{
 "cells": [
  {
   "cell_type": "code",
   "execution_count": 1,
   "source": [
    "#Tạo class `Customer` bao gồm một số thông tin:\r\n",
    "# `name`, `date_of_birth`, `email`, `phone`\r\n",
    "#`get_info()` hiển thị thông tin Customer\r\n",
    "\r\n",
    "class Customer():\r\n",
    "    def __init__(self,name,date_of_birth,email,phone):\r\n",
    "        self.name = name\r\n",
    "        self.date_of_birth = date_of_birth\r\n",
    "        self.email = email\r\n",
    "        self.phone = phone\r\n",
    "    def get_info(self):\r\n",
    "        print(f\"Name: {self.name}, date_of_birth: {self.date_of_birth}, email: {self.email}, phone: {self.phone}\")\r\n",
    "Lien = Customer(\"Nguyen Thi Hong Lien\", \"06/11/1994\", \"liennth1@onemount.com\", 123456789)\r\n",
    "Lien.get_info()"
   ],
   "outputs": [
    {
     "output_type": "stream",
     "name": "stdout",
     "text": [
      "Name: Nguyen Thi Hong Lien, date_of_birth: 06/11/1994, email: liennth1@onemount.com, phone: 123456789\n"
     ]
    }
   ],
   "metadata": {}
  }
 ],
 "metadata": {
  "orig_nbformat": 4,
  "language_info": {
   "name": "python",
   "version": "3.7.8",
   "mimetype": "text/x-python",
   "codemirror_mode": {
    "name": "ipython",
    "version": 3
   },
   "pygments_lexer": "ipython3",
   "nbconvert_exporter": "python",
   "file_extension": ".py"
  },
  "kernelspec": {
   "name": "python3",
   "display_name": "Python 3.7.8 64-bit"
  },
  "interpreter": {
   "hash": "38740d3277777e2cd7c6c2cc9d8addf5118fdf3f82b1b39231fd12aeac8aee8b"
  }
 },
 "nbformat": 4,
 "nbformat_minor": 2
}