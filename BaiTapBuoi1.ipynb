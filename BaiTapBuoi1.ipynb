{
 "cells": [
  {
   "cell_type": "markdown",
   "metadata": {},
   "source": [
    "### Viết chương trình chuyển đổi từ số giây (nguyên dương) thành giờ, phút, giây tương ứng\n",
    "\n",
    "Nhập số giây sec (int)\n",
    "Quy đổi và in ra giá trị giờ phút giây tương ứng\n",
    "💡 VD: Nhập 123 -> 0 giờ, 2 phút, 3 giây"
   ]
  },
  {
   "cell_type": "code",
   "execution_count": 2,
   "metadata": {},
   "outputs": [
    {
     "name": "stdout",
     "output_type": "stream",
     "text": [
      "xin mời nhập tổng số giây:\n",
      "số giờ quy đổi ra là:1giờ,0phút,50giây\n"
     ]
    }
   ],
   "source": [
    "print (\"xin mời nhập tổng số giây:\")\n",
    "var_sec = int(input())\n",
    "int_gio = var_sec//3600\n",
    "int_phut = (var_sec - int_gio*3600)//60\n",
    "int_giay = var_sec -int_phut*60 -int_gio*3600\n",
    "print (\"số giờ quy đổi ra là:\" + str(int_gio) + \"giờ,\" + str(int_phut) + \"phút,\" + str(int_giay)+ \"giây\")"
   ]
  },
  {
   "cell_type": "markdown",
   "metadata": {},
   "source": [
    "### Viết chương trình chuyển đổi nhiệt độ từ thang nhiệt Celcius sang các thang nhiệt Farenheit, Keven và Rankine\n",
    "\n",
    "Nhập nhiệt độ (°C - float)\n",
    "Quy đổi và in ra °F tương ứng (°F = °C * 9 / 5 + 32)\n",
    "Quy đổi và in ra °K tương ứng (°K = °C + 273.15)\n",
    "Quy đổi và in ra °R tương ứng (°R = (°C + 273.15) * 9 / 5))"
   ]
  },
  {
   "cell_type": "code",
   "execution_count": 3,
   "metadata": {},
   "outputs": [
    {
     "name": "stdout",
     "output_type": "stream",
     "text": [
      "Xin mời  nhập nhiệt độ C để quy đổi sang đơn vị nhiệt độ khác:\n",
      "Kết quả quy đổi đơn vị: \n",
      "27.0 °C =  80.6 °F\n",
      "27.0 °C =  300.15 °K\n",
      "27.0 °C =  540.27 °R\n"
     ]
    }
   ],
   "source": [
    "print(\"Xin mời  nhập nhiệt độ C để quy đổi sang đơn vị nhiệt độ khác:\")\n",
    "c = float(input())\n",
    "f = c* 9 / 5 + 32\n",
    "k = c + 273.15\n",
    "r = (c + 273.15) * 9 / 5\n",
    "print('Kết quả quy đổi đơn vị: ')\n",
    "print( c, '°C = ', f, '°F')\n",
    "print( c, '°C = ', k, '°K')\n",
    "print( c, '°C = ', r, '°R')"
   ]
  },
  {
   "cell_type": "markdown",
   "metadata": {},
   "source": [
    "### Viết chương trình quy đổi độ dài từ đơn vị km sang các đơn vị khác. Nhập giá trị độ dài length - float (đơn vị km). Quy đổi sang các đơn vị m, dm, cm, mm, mile, inch và in kết quả (làm tròn đến 2 chữ số thập phân)💡 Bảng đơn vị\n",
    "\t- 1 km = 1000 m\n",
    "\t- 1 km = 10000 dm\n",
    "\t- 1 km = 100000 cm\n",
    "\t- 1 km = 1000000 mm\n",
    "\t- 1 km = 1.609344 mile\n",
    "\t- 1 km = 39370.1 inch\n",
    "\t- Có thể thêm một số đơn vị khác"
   ]
  },
  {
   "cell_type": "code",
   "execution_count": 6,
   "metadata": {},
   "outputs": [
    {
     "name": "stdout",
     "output_type": "stream",
     "text": [
      "Nhập độ dài đơn vị km:\n",
      "độ dài theo m là:\n",
      "380000.0\n",
      "độ dài theo dm là:\n",
      "3800000.0\n",
      "độ dài theo mm là:\n",
      "380000000.0\n",
      "độ dài theo cm là:\n",
      "38000000.0\n",
      "độ dài theo mile là:\n",
      "611.55\n",
      "độ dài theo inch là:\n",
      "14960638.0\n"
     ]
    }
   ],
   "source": [
    "print (\"Nhập độ dài đơn vị km:\")\n",
    "lengh = float(input())\n",
    "m = lengh * 1000\n",
    "dm = lengh * 10000\n",
    "cm = lengh * 100000\n",
    "mm = lengh * 1000000\n",
    "mile = lengh * 1.609344\n",
    "inch = lengh * 39370.1\n",
    "print (\"độ dài theo m là:\")\n",
    "print (round(m,2))\n",
    "print (\"độ dài theo dm là:\" )\n",
    "print (round(dm,2))\n",
    "print (\"độ dài theo mm là:\" )\n",
    "print (round(mm,2))\n",
    "print (\"độ dài theo cm là:\" )\n",
    "print (round(cm,2))\n",
    "print (\"độ dài theo mile là:\" )\n",
    "print (round(mile,2))\n",
    "print (\"độ dài theo inch là:\" )\n",
    "print (round(inch,2))"
   ]
  }
 ],
 "metadata": {
  "interpreter": {
   "hash": "38740d3277777e2cd7c6c2cc9d8addf5118fdf3f82b1b39231fd12aeac8aee8b"
  },
  "kernelspec": {
   "display_name": "Python 3.7.8 64-bit",
   "language": "python",
   "name": "python3"
  },
  "language_info": {
   "codemirror_mode": {
    "name": "ipython",
    "version": 3
   },
   "file_extension": ".py",
   "mimetype": "text/x-python",
   "name": "python",
   "nbconvert_exporter": "python",
   "pygments_lexer": "ipython3",
   "version": "3.7.8"
  },
  "orig_nbformat": 4
 },
 "nbformat": 4,
 "nbformat_minor": 2
}
