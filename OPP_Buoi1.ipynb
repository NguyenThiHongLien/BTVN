{
 "cells": [
  {
   "cell_type": "code",
   "execution_count": 1,
   "source": [
    "#Thay đổi các thuộc tính account_number, account_name, balance trong class BankAccount thành thuộc tính ẩn, và triển khai thêm các phương thức:\r\n",
    "#get_account_number()\r\n",
    "#get_account_name()\r\n",
    "#get_balance()\r\n",
    "#set_balance() - balance phải lớn hơn hoặc bằng 0\r\n",
    "#Thay đổi các phương thức display(), withdraw() và deposit() sử dụng các phương thức getter và setter trên.\r\n",
    "#Chú ý:\r\n",
    "#Với withdraw(), amount phải lớn hơn 0 và nhỏ hơn balance\r\n",
    "#Với deposit(), amount phải lớn hơn 0\r\n",
    "#Nếu giá trị không phù hợp thì thông báo ra console\r\n",
    "\r\n",
    "class BankAccount:\r\n",
    "    def __init__(self, account_number, account_name, balance):\r\n",
    "        self._account_number = account_number\r\n",
    "        self._account_name = account_name\r\n",
    "        self.set_balance(balance)\r\n",
    "\r\n",
    "    def get_account_number(self):\r\n",
    "        return self._account_number\r\n",
    "\r\n",
    "    def get_account_name(self):\r\n",
    "        return self._account_name\r\n",
    "\r\n",
    "    def get_balance(self):\r\n",
    "        return self._balance\r\n",
    "\r\n",
    "    def withdraw(self,amount):\r\n",
    "        if 0<= amount <= self._balance :\r\n",
    "            self._balance -= amount\r\n",
    "        else:\r\n",
    "            print(\"Không đủ số dư để rút\")\r\n",
    "\r\n",
    "\r\n",
    "    def deposit(self, amount):\r\n",
    "        if amount > 0:\r\n",
    "            self._balance +=  amount\r\n",
    "        else:\r\n",
    "            print('Phải nạp số tiền lớn hơn 0')\r\n",
    "\r\n",
    "    def set_balance(self, new_balance):\r\n",
    "        if new_balance >= 0:\r\n",
    "            self._balance = new_balance\r\n",
    "        if new_balance <0:\r\n",
    "            print(\"Số dư không hợp lệ\")\r\n",
    "\r\n",
    "    def display(self):\r\n",
    "        print(f\"Acount number: {self.get_account_number()}, Account name: {self.get_account_name()}, Account balace: {self.get_balance()}\")\r\n",
    "\r\n",
    "   \r\n",
    "Liennth1 = BankAccount('12345678', \"Hồng Liên\", 0)\r\n",
    "Liennth1.deposit(2000000)\r\n",
    "Liennth1.withdraw(500000)\r\n",
    "Liennth1.display()"
   ],
   "outputs": [
    {
     "output_type": "stream",
     "name": "stdout",
     "text": [
      "Acount number: 12345678, Account name: Hồng Liên, Account balace: 1500000\n"
     ]
    }
   ],
   "metadata": {}
  }
 ],
 "metadata": {
  "orig_nbformat": 4,
  "language_info": {
   "name": "python",
   "version": "3.7.8",
   "mimetype": "text/x-python",
   "codemirror_mode": {
    "name": "ipython",
    "version": 3
   },
   "pygments_lexer": "ipython3",
   "nbconvert_exporter": "python",
   "file_extension": ".py"
  },
  "kernelspec": {
   "name": "python3",
   "display_name": "Python 3.7.8 64-bit"
  },
  "interpreter": {
   "hash": "38740d3277777e2cd7c6c2cc9d8addf5118fdf3f82b1b39231fd12aeac8aee8b"
  }
 },
 "nbformat": 4,
 "nbformat_minor": 2
}